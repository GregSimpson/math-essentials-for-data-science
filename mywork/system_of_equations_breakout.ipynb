{
 "cells": [
  {
   "cell_type": "markdown",
   "metadata": {},
   "source": [
    "# Linear algebra and NumPy\n",
    "\n",
    "This morning we will revisit some linear algebra using the NumPy library in python. \n",
    "\n",
    "**For the following exercises, use numpy vector/matrix operations. Do not use a for loop unless given explicit instructions**\n",
    "\n",
    "## Part 0: Important Numpy Notes:\n",
    "\n",
    "In an numpy array, a **row vector** is defined as:\n",
    "\n",
    "```python\n",
    "a = np.array([[1, 2, 3]])\n",
    "```\n",
    "The shape of `a` is `(1, 3)`.\n",
    "\n",
    "A **column vector** is defined as:\n",
    "```python\n",
    "b = np.array([[1], [2], [3]])\n",
    "```\n",
    "The shape of `b` is `(3, 1)`.\n",
    "\n",
    "Ensure that you check the `shape` of all the vectors throughout the exercise.\n",
    "If the shape is missing a value, i.e. `(3,)` or  `(,3)`, use `np.newaxis` to\n",
    "restore the correct dimensions."
   ]
  },
  {
   "cell_type": "code",
   "execution_count": 1,
   "metadata": {},
   "outputs": [],
   "source": [
    "import numpy as np"
   ]
  },
  {
   "cell_type": "markdown",
   "metadata": {},
   "source": [
    "## Part 1: Linear Algebra Practice:\n",
    "\n",
    "### Part 1.1\n",
    "\n",
    "The [stochastic matrix](https://en.wikipedia.org/wiki/Stochastic_matrix) or a Markov Matrix is a useful mathematical construct.  It is used to characterize transitions for a finite [Markov chain](https://en.wikipedia.org/wiki/Markov_chain). [A markov chain](https://en.oxforddictionaries.com/definition/us/markov_chain) can be described as follows:\n",
    "\n",
    ">a stochastic model describing a sequence of possible events in which the probability of each event depends only  on the state attained in the previous event.\n",
    "\n",
    "The stoichastic matrix is a square matrix specifying the probabilities of going from one state to the other such that every column of the matrix sums to 1.\n",
    "\n",
    "The probability of entering a certain state depends only on the last state occupied and the stochastic matrix, not on any earlier states.\n",
    "\n",
    "Suppose that the 2004 **state of land use** in a city of 60 $\\textrm{miles}^2$ of built-up\n",
    "area is:\n",
    "\n",
    "\n",
    "\n",
    "```\n",
    "In 2004:\n",
    "   \n",
    "C (Commercially Used): 25%\n",
    "I (Industrially Used): 20%\n",
    "R (Residentially Used): 55%\n",
    "```\n",
    "\n",
    "Find the **state of land use** in **2009** and **2014**,\n",
    "assuming that the transition probabilities for 5-year intervals are given\n",
    "by the matrix **A** and remain practically the same over the time considered.\n",
    "\n",
    "The following matrix can help visualize this process:\n",
    "\n",
    "$$\n",
    "    \\mathbf{A} =\n",
    "    \\begin{pmatrix}\n",
    "    C\\rightarrow C & I\\rightarrow C & R \\rightarrow C \\\\ \n",
    "    C\\rightarrow I & I\\rightarrow I & R \\rightarrow I \\\\ \n",
    "    C\\rightarrow R & I\\rightarrow R & R \\rightarrow R \\\\ \n",
    "    \\end{pmatrix}\n",
    "    = \n",
    "    \\begin{pmatrix}\n",
    "    0.7 & 0.1 & 0.0\\\\ \n",
    "    0.2 & 0.9 & 0.2\\\\ \n",
    "    0.1 & 0.0 & 0.8\\\\\n",
    "    \\end{pmatrix}\n",
    "$$"
   ]
  },
  {
   "cell_type": "code",
   "execution_count": 2,
   "metadata": {},
   "outputs": [
    {
     "data": {
      "text/plain": [
       "array([[0.7, 0.1, 0. ],\n",
       "       [0.2, 0.9, 0.2],\n",
       "       [0.1, 0. , 0.8]])"
      ]
     },
     "execution_count": 2,
     "metadata": {},
     "output_type": "execute_result"
    }
   ],
   "source": [
    "# Question 1\n",
    "# Create the stochastic matrix shown above\n",
    "transitions = np.array([[.7,.1,0,.2,.9,.2,.1,0,.8]]).reshape(3,3)\n",
    "transitions"
   ]
  },
  {
   "cell_type": "code",
   "execution_count": 3,
   "metadata": {},
   "outputs": [
    {
     "data": {
      "text/plain": [
       "array([[0.25],\n",
       "       [0.2 ],\n",
       "       [0.55]])"
      ]
     },
     "execution_count": 3,
     "metadata": {},
     "output_type": "execute_result"
    }
   ],
   "source": [
    "# Question 2\n",
    "# Create a vector representing the initial state of land use\n",
    "init_landuse = np.array([[.25,.2,.55]]).T\n",
    "init_landuse"
   ]
  },
  {
   "cell_type": "code",
   "execution_count": 4,
   "metadata": {},
   "outputs": [
    {
     "data": {
      "text/plain": [
       "array([[0.195],\n",
       "       [0.34 ],\n",
       "       [0.465]])"
      ]
     },
     "execution_count": 4,
     "metadata": {},
     "output_type": "execute_result"
    }
   ],
   "source": [
    "# Question 3\n",
    "# Determine the state of land use in 2009\n",
    "land_2009 = transitions.dot(init_landuse)\n",
    "land_2009"
   ]
  },
  {
   "cell_type": "code",
   "execution_count": 5,
   "metadata": {},
   "outputs": [
    {
     "data": {
      "text/plain": [
       "array([[0.1705],\n",
       "       [0.438 ],\n",
       "       [0.3915]])"
      ]
     },
     "execution_count": 5,
     "metadata": {},
     "output_type": "execute_result"
    }
   ],
   "source": [
    "# Question 4\n",
    "# Determine the state of land use in 2014\n",
    "land_2014 = transitions.dot(land_2009)\n",
    "#land_2014[:,0]\n",
    "#land_2014[1,0]\n",
    "land_2014"
   ]
  },
  {
   "cell_type": "code",
   "execution_count": 6,
   "metadata": {
    "scrolled": true
   },
   "outputs": [
    {
     "data": {
      "image/png": "[encoded data removed]",
      "text/plain": [
       "<matplotlib.figure.Figure at 0x7f1908728fd0>"
      ]
     },
     "metadata": {},
     "output_type": "display_data"
    }
   ],
   "source": [
    "# Extra credit\n",
    "# look at the following example plot and modify it to visualize the trend until 2029\n",
    "\n",
    "import matplotlib.pyplot as plt\n",
    "%matplotlib inline\n",
    "\n",
    "fig = plt.figure(figsize=(10,10))\n",
    "ax = fig.add_subplot(111)\n",
    "\n",
    "land_2019 = transitions.dot(land_2014)\n",
    "land_2024 = transitions.dot(land_2019)\n",
    "land_2029 = transitions.dot(land_2024)\n",
    "# np.dot(transitions, land_2019)\n",
    "\n",
    "N = 5\n",
    "C = [land_2009[0,0],land_2014[0,0],land_2019[0,0],land_2024[0,0],land_2029[0,0]]\n",
    "I = [land_2009[1,0],land_2014[1,0],land_2019[1,0],land_2024[1,0],land_2029[1,0]]\n",
    "R = [land_2009[2,0],land_2014[2,0],land_2019[2,0],land_2024[2,0],land_2029[2,0]]\n",
    "\n",
    "\n",
    "\n",
    "\n",
    "ind = np.arange(N)    # the x locations for the groups\n",
    "width = 0.35          # the width of the bars: can also be len(x) sequence\n",
    "\n",
    "p1 = ax.bar(ind, C, width, color='blue')\n",
    "p2 = ax.bar(ind, I, width, color='orange',bottom=C)\n",
    "p3 = ax.bar(ind, R, width, color='green',bottom=I)\n",
    "\n",
    "\n",
    "ax.set_ylabel('Values')\n",
    "ax.set_title('Trend')\n",
    "ax.set_xticks(ind, ('1', '2', '3', '4', '5'))\n",
    "#plt.yticks(np.arange(0, 81, 10))\n",
    "ax.legend((p1[0], p2[0], p3[0]), ('C', 'R','I'))\n",
    "pass\n"
   ]
  },
  {
   "cell_type": "code",
   "execution_count": null,
   "metadata": {},
   "outputs": [],
   "source": []
  }
 ],
 "metadata": {
  "kernelspec": {
   "display_name": "Python 3",
   "language": "python",
   "name": "python3"
  },
  "language_info": {
   "codemirror_mode": {
    "name": "ipython",
    "version": 3
   },
   "file_extension": ".py",
   "mimetype": "text/x-python",
   "name": "python",
   "nbconvert_exporter": "python",
   "pygments_lexer": "ipython3",
   "version": "3.5.2"
  }
 },
 "nbformat": 4,
 "nbformat_minor": 2
}
