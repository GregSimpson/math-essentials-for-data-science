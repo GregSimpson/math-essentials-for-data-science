{
 "cells": [
  {
   "cell_type": "markdown",
   "metadata": {},
   "source": [
    "## SVD for topic analysis\n",
    "\n",
    "We can use SVD to determine what we call ***latent features***. This will be best demonstrated with an example.\n",
    "\n",
    "### Example\n",
    "\n",
    "Let's look at users ratings of different movies. The ratings are from 1-5. A rating of 0 means the user hasn't watched the movie.\n",
    "\n",
    "|       | Matrix | Alien | StarWars | Casablanca | Titanic |\n",
    "| ----- | ------ | ----- | -------- | ---------- | ------ |\n",
    "| **Alice** |      1 |     2 |        2 |          0 |      0 |\n",
    "|   **Bob** |      3 |     5 |        5 |          0 |      0 |\n",
    "| **Cindy** |      4 |     4 |        4 |          0 |      0 |\n",
    "|   **Dan** |      5 |     5 |        5 |          0 |      0 |\n",
    "| **Emily** |      0 |     2 |        0 |          4 |      4 |\n",
    "| **Frank** |      0 |     0 |        0 |          5 |      5 |\n",
    "|  **Greg** |      0 |     1 |        0 |          2 |      2 |\n",
    "\n",
    "Note that the first three movies (Matrix, Alien, StarWars) are Sci-fi movies and the last two (Casablanca, Titanic) are Romance. We will be able to mathematically pull out these topics!\n",
    "\n",
    "Let's do the computation with Python."
   ]
  },
  {
   "cell_type": "code",
   "execution_count": 186,
   "metadata": {},
   "outputs": [],
   "source": [
    "import numpy as np\n",
    "import pandas as pd\n",
    "import matplotlib.pyplot as plt\n",
    "%matplotlib inline"
   ]
  },
  {
   "cell_type": "code",
   "execution_count": 187,
   "metadata": {},
   "outputs": [],
   "source": [
    "M = np.array([[1, 2, 2, 0, 0],\n",
    "              [3, 5, 5, 0, 0],\n",
    "              [4, 4, 4, 0, 0],\n",
    "              [5, 5, 5, 0, 0],\n",
    "              [0, 2, 0, 4, 4],\n",
    "              [0, 0, 0, 5, 5],\n",
    "              [0, 1, 0, 2, 2]])"
   ]
  },
  {
   "cell_type": "code",
   "execution_count": 188,
   "metadata": {
    "scrolled": false
   },
   "outputs": [],
   "source": [
    "# Compute SVD\n",
    "from numpy.linalg import svd\n",
    "U, sigma, VT = svd(M,full_matrices=False)"
   ]
  },
  {
   "cell_type": "markdown",
   "metadata": {},
   "source": [
    "## Part 1\n",
    "\n",
    "Describe in your own words what the matrices contain and how they might be used"
   ]
  },
  {
   "cell_type": "code",
   "execution_count": 189,
   "metadata": {},
   "outputs": [
    {
     "name": "stdout",
     "output_type": "stream",
     "text": [
      "(7, 5)\n"
     ]
    },
    {
     "data": {
      "text/plain": [
       "array([[-2.12142669e-01,  2.35889359e-02,  3.05275882e-01,\n",
       "         2.55204195e-01, -7.18116542e-01],\n",
       "       [-5.48509647e-01,  6.39541961e-02,  5.32055497e-01,\n",
       "         4.61448643e-01,  3.59058271e-01],\n",
       "       [-4.96897235e-01,  6.71052975e-02, -3.13985067e-01,\n",
       "        -1.95838988e-01,  4.28414958e-01],\n",
       "       [-6.21121543e-01,  8.38816219e-02, -3.92481334e-01,\n",
       "        -2.44798735e-01, -4.14543621e-01],\n",
       "       [-1.24855356e-01, -5.96778016e-01,  3.95328299e-01,\n",
       "        -5.21519583e-01, -3.60822483e-16],\n",
       "       [-4.41332838e-02, -7.33917008e-01, -4.19213292e-01,\n",
       "         5.32614583e-01, -1.11022302e-16],\n",
       "       [-6.24276782e-02, -2.98389008e-01,  1.97664149e-01,\n",
       "        -2.60759791e-01, -1.80411242e-16]])"
      ]
     },
     "execution_count": 189,
     "metadata": {},
     "output_type": "execute_result"
    }
   ],
   "source": [
    "## U matrix\n",
    "## print the shape and add your description\n",
    "\n",
    "# this matrix represents the machine 'discovered' significant vectors.\n",
    "# these vectors define feature significance\n",
    "\n",
    "# my explanation:\n",
    "# this matrix describes HOW MUCH each PERSON likes (or dislikes)\n",
    "# each characteristic that was found to be a significant differentiator\n",
    "# to this data set\n",
    "\n",
    "print(U.shape)\n",
    "U"
   ]
  },
  {
   "cell_type": "code",
   "execution_count": 190,
   "metadata": {},
   "outputs": [
    {
     "name": "stdout",
     "output_type": "stream",
     "text": [
      "(5,)\n"
     ]
    },
    {
     "data": {
      "text/plain": [
       "array([1.38366398e+01, 9.52139961e+00, 1.68783520e+00, 1.02056846e+00,\n",
       "       6.27520304e-17])"
      ]
     },
     "execution_count": 190,
     "metadata": {},
     "output_type": "execute_result"
    }
   ],
   "source": [
    "## sigma matrix\n",
    "## print the shape and add your description\n",
    "\n",
    "# this matrix defines the probabilities to determine \n",
    "# the likelihood that Person-A would like Movie-B\n",
    "\n",
    "# my explanation:\n",
    "# this matrix describes HOW IMPORTANT the characteristics are \n",
    "# in explaining preferences\n",
    "\n",
    "\n",
    "print(sigma.shape)\n",
    "sigma"
   ]
  },
  {
   "cell_type": "code",
   "execution_count": 191,
   "metadata": {},
   "outputs": [
    {
     "name": "stdout",
     "output_type": "stream",
     "text": [
      "(5, 5)\n"
     ]
    },
    {
     "data": {
      "text/plain": [
       "array([[-5.02352330e-01, -6.19526758e-01, -5.96967929e-01,\n",
       "        -6.10656353e-02, -6.10656353e-02],\n",
       "       [ 9.48684921e-02, -4.59141416e-02,  1.10779738e-01,\n",
       "        -6.98791711e-01, -6.98791711e-01],\n",
       "       [-7.80232905e-01,  6.16649691e-01,  3.10944517e-02,\n",
       "        -7.07562953e-02, -7.07562953e-02],\n",
       "       [-3.60386901e-01, -4.83551079e-01,  7.93971206e-01,\n",
       "         5.43569648e-02,  5.43569648e-02],\n",
       "       [-0.00000000e+00,  1.46317186e-16, -1.46317186e-16,\n",
       "         7.07106781e-01, -7.07106781e-01]])"
      ]
     },
     "execution_count": 191,
     "metadata": {},
     "output_type": "execute_result"
    }
   ],
   "source": [
    "## VT matrix\n",
    "## print the shape and add your description\n",
    "\n",
    "# this is the resulting preference matrix\n",
    "\n",
    "# my explanation:\n",
    "# this matrix describes HOW MUCH each MOVIE displays \n",
    "# each characteristic that was found to be a significant differentiator\n",
    "# to this data set\n",
    "\n",
    "print(VT.shape)\n",
    "VT"
   ]
  },
  {
   "cell_type": "markdown",
   "metadata": {},
   "source": [
    "## Part 2\n",
    "\n",
    "Making use of the factorized version of our ratings"
   ]
  },
  {
   "cell_type": "code",
   "execution_count": 192,
   "metadata": {},
   "outputs": [
    {
     "name": "stdout",
     "output_type": "stream",
     "text": [
      "          0     1     2     3     4\n",
      "Alice -0.21  0.02  0.31  0.26 -0.72\n",
      "Bob   -0.55  0.06  0.53  0.46  0.36\n",
      "Cindy -0.50  0.07 -0.31 -0.20  0.43\n",
      "Dan   -0.62  0.08 -0.39 -0.24 -0.41\n",
      "Emily -0.12 -0.60  0.40 -0.52 -0.00\n",
      "Frank -0.04 -0.73 -0.42  0.53 -0.00\n",
      "Greg  -0.06 -0.30  0.20 -0.26 -0.00\n",
      "--------------------------------------\n",
      "[[13.84  0.    0.    0.    0.  ]\n",
      " [ 0.    9.52  0.    0.    0.  ]\n",
      " [ 0.    0.    1.69  0.    0.  ]\n",
      " [ 0.    0.    0.    1.02  0.  ]\n",
      " [ 0.    0.    0.    0.    0.  ]]\n",
      "--------------------------------------\n",
      "   Matrix  Alien  StarWars  Casablanca  Titanic\n",
      "0   -0.50  -0.62     -0.60       -0.06    -0.06\n",
      "1    0.09  -0.05      0.11       -0.70    -0.70\n",
      "2   -0.78   0.62      0.03       -0.07    -0.07\n",
      "3   -0.36  -0.48      0.79        0.05     0.05\n",
      "4   -0.00   0.00     -0.00        0.71    -0.71\n"
     ]
    }
   ],
   "source": [
    "# Make interpretable\n",
    "movies = ['Matrix','Alien','StarWars','Casablanca','Titanic']\n",
    "users = ['Alice','Bob','Cindy','Dan','Emily','Frank','Greg']\n",
    "\n",
    "U, sigma, VT = (np.around(x,2) for x in (U,sigma,VT))\n",
    "df_U = pd.DataFrame(U, index=users)\n",
    "df_VT = pd.DataFrame(VT, columns=movies)\n",
    "\n",
    "print(df_U)\n",
    "print(\"--------------------------------------\")\n",
    "print(np.diag(sigma))\n",
    "print(\"--------------------------------------\")\n",
    "print(df_VT)"
   ]
  },
  {
   "cell_type": "markdown",
   "metadata": {},
   "source": [
    "Add your own description of how the matrices relate to each other"
   ]
  },
  {
   "cell_type": "markdown",
   "metadata": {},
   "source": [
    "## Trim the matrices to represent a factorization from only the top two factors"
   ]
  },
  {
   "cell_type": "code",
   "execution_count": 193,
   "metadata": {},
   "outputs": [
    {
     "name": "stdout",
     "output_type": "stream",
     "text": [
      "          0     1     2     3     4\n",
      "Alice -0.21  0.02  0.31  0.26 -0.72\n",
      "Bob   -0.55  0.06  0.53  0.46  0.36\n",
      "          0     1\n",
      "Alice -0.21  0.02\n",
      "Bob   -0.55  0.06\n",
      "Cindy -0.50  0.07\n",
      "Dan   -0.62  0.08\n",
      "Emily -0.12 -0.60\n",
      "Frank -0.04 -0.73\n",
      "Greg  -0.06 -0.30\n",
      "[13.84  9.52]\n",
      "   Matrix  Alien  StarWars  Casablanca  Titanic\n",
      "0   -0.50  -0.62     -0.60       -0.06    -0.06\n",
      "1    0.09  -0.05      0.11       -0.70    -0.70\n"
     ]
    }
   ],
   "source": [
    "# prints row 0 and 1 and all cols\n",
    "#print ( df_U[:2] )\n",
    "\n",
    "# leaves you with 2 x 2 matrix\n",
    "#trimmed_U = df_U.iloc[:2,0:2]\n",
    "\n",
    "trimmed_U = df_U.iloc[:,0:2]\n",
    "print ( trimmed_U )\n",
    "\n",
    "trimmed_sigma = sigma[0:2]\n",
    "print (trimmed_sigma)\n",
    "\n",
    "trimmed_VT = df_VT.iloc[0:2,:]\n",
    "print ( trimmed_VT )"
   ]
  },
  {
   "cell_type": "markdown",
   "metadata": {},
   "source": [
    "## Part 3: Does your approximate version of the matrix still reasonably reconstruct the original?"
   ]
  },
  {
   "cell_type": "code",
   "execution_count": 194,
   "metadata": {},
   "outputs": [
    {
     "data": {
      "text/html": [
       "<div>\n",
       "<style scoped>\n",
       "    .dataframe tbody tr th:only-of-type {\n",
       "        vertical-align: middle;\n",
       "    }\n",
       "\n",
       "    .dataframe tbody tr th {\n",
       "        vertical-align: top;\n",
       "    }\n",
       "\n",
       "    .dataframe thead th {\n",
       "        text-align: right;\n",
       "    }\n",
       "</style>\n",
       "<table border=\"1\" class=\"dataframe\">\n",
       "  <thead>\n",
       "    <tr style=\"text-align: right;\">\n",
       "      <th></th>\n",
       "      <th>Matrix</th>\n",
       "      <th>Alien</th>\n",
       "      <th>StarWars</th>\n",
       "      <th>Casablanca</th>\n",
       "      <th>Titanic</th>\n",
       "    </tr>\n",
       "  </thead>\n",
       "  <tbody>\n",
       "    <tr>\n",
       "      <th>Alice</th>\n",
       "      <td>1.0</td>\n",
       "      <td>2.0</td>\n",
       "      <td>2.0</td>\n",
       "      <td>0.0</td>\n",
       "      <td>0.0</td>\n",
       "    </tr>\n",
       "    <tr>\n",
       "      <th>Bob</th>\n",
       "      <td>4.0</td>\n",
       "      <td>5.0</td>\n",
       "      <td>5.0</td>\n",
       "      <td>0.0</td>\n",
       "      <td>0.0</td>\n",
       "    </tr>\n",
       "    <tr>\n",
       "      <th>Cindy</th>\n",
       "      <td>4.0</td>\n",
       "      <td>4.0</td>\n",
       "      <td>4.0</td>\n",
       "      <td>-0.0</td>\n",
       "      <td>-0.0</td>\n",
       "    </tr>\n",
       "    <tr>\n",
       "      <th>Dan</th>\n",
       "      <td>4.0</td>\n",
       "      <td>5.0</td>\n",
       "      <td>5.0</td>\n",
       "      <td>-0.0</td>\n",
       "      <td>-0.0</td>\n",
       "    </tr>\n",
       "    <tr>\n",
       "      <th>Emily</th>\n",
       "      <td>0.0</td>\n",
       "      <td>1.0</td>\n",
       "      <td>0.0</td>\n",
       "      <td>4.0</td>\n",
       "      <td>4.0</td>\n",
       "    </tr>\n",
       "    <tr>\n",
       "      <th>Frank</th>\n",
       "      <td>-0.0</td>\n",
       "      <td>1.0</td>\n",
       "      <td>-0.0</td>\n",
       "      <td>5.0</td>\n",
       "      <td>5.0</td>\n",
       "    </tr>\n",
       "    <tr>\n",
       "      <th>Greg</th>\n",
       "      <td>0.0</td>\n",
       "      <td>1.0</td>\n",
       "      <td>0.0</td>\n",
       "      <td>2.0</td>\n",
       "      <td>2.0</td>\n",
       "    </tr>\n",
       "  </tbody>\n",
       "</table>\n",
       "</div>"
      ],
      "text/plain": [
       "       Matrix  Alien  StarWars  Casablanca  Titanic\n",
       "Alice     1.0    2.0       2.0         0.0      0.0\n",
       "Bob       4.0    5.0       5.0         0.0      0.0\n",
       "Cindy     4.0    4.0       4.0        -0.0     -0.0\n",
       "Dan       4.0    5.0       5.0        -0.0     -0.0\n",
       "Emily     0.0    1.0       0.0         4.0      4.0\n",
       "Frank    -0.0    1.0      -0.0         5.0      5.0\n",
       "Greg      0.0    1.0       0.0         2.0      2.0"
      ]
     },
     "execution_count": 194,
     "metadata": {},
     "output_type": "execute_result"
    }
   ],
   "source": [
    "# Use this code but swap in your matrices\n",
    "#np.around(df_U.dot(np.diag(sigma)).dot(_VT))\n",
    "\n",
    "np.around(trimmed_U.dot(np.diag(trimmed_sigma)).dot(trimmed_VT))\n",
    "# yes ! sweet"
   ]
  },
  {
   "cell_type": "markdown",
   "metadata": {},
   "source": [
    "## Part 4: Make some recommendations\n",
    "\n",
    "\n",
    "Use cosine similarity to compare all other users to Alice (using movie profiles)\n",
    "\n",
    "np.dot(x,y) / ( np.linalg.norm(x) * np.linalg.norm(y) )"
   ]
  },
  {
   "cell_type": "code",
   "execution_count": 195,
   "metadata": {
    "scrolled": false
   },
   "outputs": [
    {
     "name": "stdout",
     "output_type": "stream",
     "text": [
      "[[ 0.0533587   0.06455003  0.06405042 -0.00069946 -0.00069946]\n",
      " [ 0.14009156  0.16886929  0.16816983 -0.00449652 -0.00449652]\n",
      " [ 0.12805088  0.15313147  0.153731   -0.00949265 -0.00949265]\n",
      " [ 0.15847733  0.19005289  0.19025273 -0.00939273 -0.00939273]\n",
      " [ 0.00299768  0.05215963  0.00299768  0.21343479  0.21343479]\n",
      " [-0.02283233  0.03062629 -0.02812823  0.25650145  0.25650145]\n",
      " [ 0.00149884  0.02607981  0.00149884  0.10671739  0.10671739]]\n",
      "1.000299955013495\n",
      "1.4157330256796299\n",
      "[[ 0.07541533  0.09123278  0.09052664 -0.00098859 -0.00098859]\n",
      " [ 0.19800055  0.23867399  0.2376854  -0.00635522 -0.00635522]\n",
      " [ 0.18098267  0.2164307   0.21727806 -0.01341659 -0.01341659]\n",
      " [ 0.22398636  0.26861416  0.26889661 -0.01327536 -0.01327536]\n",
      " [ 0.00423682  0.0737206   0.00423682  0.30166132  0.30166132]\n",
      " [-0.03227042  0.04328614 -0.03975546  0.36253025  0.36253025]\n",
      " [ 0.00211841  0.0368603   0.00211841  0.15083066  0.15083066]]\n"
     ]
    }
   ],
   "source": [
    "#np.dot(trimmed_U,trimmed_VT) / ( np.linalg.norm(trimmed_U) * np.linalg.norm(trimmed_VT))\n",
    "print (np.dot(trimmed_U,trimmed_VT) / ( np.linalg.norm(trimmed_U) * np.linalg.norm(trimmed_VT)))\n",
    "\n",
    "Users_norm = np.linalg.norm(trimmed_U[0]) # Alice - row 0\n",
    "print (Users_norm)\n",
    "\n",
    "Movie_norm = np.linalg.norm(trimmed_VT)\n",
    "print (Movie_norm)\n",
    "\n",
    "print (np.dot(trimmed_U,trimmed_VT) / ( Users_norm * Movie_norm))"
   ]
  },
  {
   "cell_type": "markdown",
   "metadata": {},
   "source": [
    "Use cosine similarity to comare all other movies to StarWars (using user profiles)"
   ]
  },
  {
   "cell_type": "code",
   "execution_count": 196,
   "metadata": {},
   "outputs": [
    {
     "name": "stdout",
     "output_type": "stream",
     "text": [
      "[[ 0.0533587   0.06455003  0.06405042 -0.00069946 -0.00069946]\n",
      " [ 0.14009156  0.16886929  0.16816983 -0.00449652 -0.00449652]\n",
      " [ 0.12805088  0.15313147  0.153731   -0.00949265 -0.00949265]\n",
      " [ 0.15847733  0.19005289  0.19025273 -0.00939273 -0.00939273]\n",
      " [ 0.00299768  0.05215963  0.00299768  0.21343479  0.21343479]\n",
      " [-0.02283233  0.03062629 -0.02812823  0.25650145  0.25650145]\n",
      " [ 0.00149884  0.02607981  0.00149884  0.10671739  0.10671739]]\n",
      "1.4137892346456737\n",
      "0.61\n",
      "[[ 0.1238388   0.14981249  0.14865295 -0.00162336 -0.00162336]\n",
      " [ 0.32513484  0.3919243   0.39030095 -0.01043585 -0.01043585]\n",
      " [ 0.29718994  0.35539881  0.35679026 -0.02203125 -0.02203125]\n",
      " [ 0.36780588  0.44108877  0.44155259 -0.02179934 -0.02179934]\n",
      " [ 0.00695724  0.12105591  0.00695724  0.49535521  0.49535521]\n",
      " [-0.05299095  0.07107976 -0.06528207  0.59530751  0.59530751]\n",
      " [ 0.00347862  0.06052795  0.00347862  0.24767761  0.24767761]]\n"
     ]
    }
   ],
   "source": [
    "#np.dot(trimmed_U,trimmed_VT) / ( np.linalg.norm(trimmed_U) * np.linalg.norm(trimmed_VT))\n",
    "print (np.dot(trimmed_U,trimmed_VT) / ( np.linalg.norm(trimmed_U) * np.linalg.norm(trimmed_VT)))\n",
    "\n",
    "Users_norm = np.linalg.norm(trimmed_U)\n",
    "print (Users_norm)\n",
    "\n",
    "Movie_norm = np.linalg.norm(trimmed_VT['StarWars']) # StarWars col 2\n",
    "print (Movie_norm)\n",
    "\n",
    "print (np.dot(trimmed_U,trimmed_VT) / ( Users_norm * Movie_norm))"
   ]
  },
  {
   "cell_type": "markdown",
   "metadata": {},
   "source": [
    "Provide a new vector of ratings and determine which is closest"
   ]
  },
  {
   "cell_type": "code",
   "execution_count": 199,
   "metadata": {},
   "outputs": [
    {
     "name": "stdout",
     "output_type": "stream",
     "text": [
      "          0     1     2     3     4\n",
      "Alice -0.21  0.02  0.31  0.26 -0.72\n",
      "Bob   -0.55  0.06  0.53  0.46  0.36\n",
      "Cindy -0.50  0.07 -0.31 -0.20  0.43\n",
      "Dan   -0.62  0.08 -0.39 -0.24 -0.41\n",
      "Emily -0.12 -0.60  0.40 -0.52 -0.00\n",
      "Frank -0.04 -0.73 -0.42  0.53 -0.00\n",
      "Greg  -0.06 -0.30  0.20 -0.26 -0.00\n",
      "--------------------------------------\n",
      "[[15.53  0.    0.    0.    0.  ]\n",
      " [ 0.   10.35  0.    0.    0.  ]\n",
      " [ 0.    0.    2.77  0.    0.  ]\n",
      " [ 0.    0.    0.    0.    0.  ]\n",
      " [ 0.    0.    0.    0.    0.  ]]\n",
      "--------------------------------------\n",
      "   Matrix  Alien  StarWars  Casablanca  Titanic\n",
      "0   -0.50  -0.62     -0.60       -0.06    -0.06\n",
      "1    0.09  -0.05      0.11       -0.70    -0.70\n",
      "2   -0.78   0.62      0.03       -0.07    -0.07\n",
      "3   -0.36  -0.48      0.79        0.05     0.05\n",
      "4   -0.00   0.00     -0.00        0.71    -0.71\n",
      "          0     1\n",
      "Alice -0.21  0.02\n",
      "Bob   -0.55  0.06\n",
      "Cindy -0.50  0.07\n",
      "Dan   -0.62  0.08\n",
      "Emily -0.12 -0.60\n",
      "Frank -0.04 -0.73\n",
      "Greg  -0.06 -0.30\n",
      "[15.53 10.35]\n",
      "   Matrix  Alien  StarWars  Casablanca  Titanic\n",
      "0   -0.50  -0.62     -0.60       -0.06    -0.06\n",
      "1    0.09  -0.05      0.11       -0.70    -0.70\n",
      "[[ 0.0533587   0.06455003  0.06405042 -0.00069946 -0.00069946]\n",
      " [ 0.14009156  0.16886929  0.16816983 -0.00449652 -0.00449652]\n",
      " [ 0.12805088  0.15313147  0.153731   -0.00949265 -0.00949265]\n",
      " [ 0.15847733  0.19005289  0.19025273 -0.00939273 -0.00939273]\n",
      " [ 0.00299768  0.05215963  0.00299768  0.21343479  0.21343479]\n",
      " [-0.02283233  0.03062629 -0.02812823  0.25650145  0.25650145]\n",
      " [ 0.00149884  0.02607981  0.00149884  0.10671739  0.10671739]]\n",
      "1.4137892346456737\n",
      "1.4157330256796299\n",
      "[[ 0.0533587   0.06455003  0.06405042 -0.00069946 -0.00069946]\n",
      " [ 0.14009156  0.16886929  0.16816983 -0.00449652 -0.00449652]\n",
      " [ 0.12805088  0.15313147  0.153731   -0.00949265 -0.00949265]\n",
      " [ 0.15847733  0.19005289  0.19025273 -0.00939273 -0.00939273]\n",
      " [ 0.00299768  0.05215963  0.00299768  0.21343479  0.21343479]\n",
      " [-0.02283233  0.03062629 -0.02812823  0.25650145  0.25650145]\n",
      " [ 0.00149884  0.02607981  0.00149884  0.10671739  0.10671739]]\n"
     ]
    }
   ],
   "source": [
    "\n",
    "newM = np.array([[1, 2, 2, 0, 0],\n",
    "                 [3, 5, 5, 0, 0],\n",
    "                 [4, 4, 4, 0, 0],\n",
    "                 [5, 5, 5, 0, 0],\n",
    "                 [0, 2, 0, 4, 4],\n",
    "                 [0, 0, 0, 5, 5],\n",
    "                 [0, 1, 0, 2, 2]])\n",
    "\n",
    "newM = np.array([[1, 1, 1, 0, 0],\n",
    "                 [5, 5, 5, 0, 0],\n",
    "                 [5, 5, 5, 0, 0],\n",
    "                 [5, 5, 5, 0, 0],\n",
    "                 [0, 5, 0, 5, 5],\n",
    "                 [0, 0, 0, 5, 5],\n",
    "                 [0, 1, 0, 1, 1]])\n",
    "\n",
    "\n",
    "\n",
    "# Compute SVD\n",
    "from numpy.linalg import svd\n",
    "newU, newsigma, newVT = svd(newM,full_matrices=False)\n",
    "\n",
    "\n",
    "# Make interpretable\n",
    "movies = ['Matrix','Alien','StarWars','Casablanca','Titanic']\n",
    "users = ['Alice','Bob','Cindy','Dan','Emily','Frank','Greg']\n",
    "\n",
    "newU, newsigma, newVT = (np.around(x,2) for x in (newU,newsigma,newVT))\n",
    "newdf_U = pd.DataFrame(U, index=users)\n",
    "newdf_VT = pd.DataFrame(VT, columns=movies)\n",
    "\n",
    "print(newdf_U)\n",
    "print(\"--------------------------------------\")\n",
    "print(np.diag(newsigma))\n",
    "print(\"--------------------------------------\")\n",
    "print(newdf_VT)\n",
    "\n",
    "\n",
    "newtrimmed_U = newdf_U.iloc[:,0:2]\n",
    "print ( newtrimmed_U )\n",
    "\n",
    "newtrimmed_sigma = newsigma[0:2]\n",
    "print (newtrimmed_sigma)\n",
    "\n",
    "newtrimmed_VT = newdf_VT.iloc[0:2,:]\n",
    "print ( newtrimmed_VT )\n",
    "\n",
    "#np.dot(trimmed_U,trimmed_VT) / ( np.linalg.norm(trimmed_U) * np.linalg.norm(trimmed_VT))\n",
    "print (np.dot(newtrimmed_U,newtrimmed_VT) / ( np.linalg.norm(newtrimmed_U) * np.linalg.norm(newtrimmed_VT)))\n",
    "\n",
    "newUsers_norm = np.linalg.norm(newtrimmed_U)\n",
    "print (newUsers_norm)\n",
    "\n",
    "newMovie_norm = np.linalg.norm(newtrimmed_VT)\n",
    "print (newMovie_norm)\n",
    "\n",
    "print (np.dot(newtrimmed_U,newtrimmed_VT) / ( newUsers_norm * newMovie_norm))\n"
   ]
  },
  {
   "cell_type": "code",
   "execution_count": 203,
   "metadata": {},
   "outputs": [
    {
     "name": "stdout",
     "output_type": "stream",
     "text": [
      "[[ 5 10]\n",
      " [ 1  1]]\n",
      "[[ 5  1]\n",
      " [10  1]]\n",
      "[[-0.2  2. ]\n",
      " [ 0.2 -1. ]]\n"
     ]
    }
   ],
   "source": [
    "\n",
    "bill_matrix = np.array([[5,10],[1,1]])\n",
    "print ( bill_matrix )\n",
    "print ( bill_matrix.T )\n",
    "print ( np.linalg.inv(bill_matrix) )\n"
   ]
  },
  {
   "cell_type": "code",
   "execution_count": 202,
   "metadata": {},
   "outputs": [
    {
     "name": "stdout",
     "output_type": "stream",
     "text": [
      "[[1 3]\n",
      " [2 5]]\n",
      "[[1 2]\n",
      " [3 5]]\n",
      "[[-5.  3.]\n",
      " [ 2. -1.]]\n"
     ]
    }
   ],
   "source": [
    "# lat long\n",
    "ll_matrix = np.array([[1,3],[2,5]])\n",
    "print ( ll_matrix )\n",
    "print ( ll_matrix.T )\n",
    "print ( np.linalg.inv(ll_matrix) )\n"
   ]
  },
  {
   "cell_type": "code",
   "execution_count": null,
   "metadata": {},
   "outputs": [],
   "source": []
  }
 ],
 "metadata": {
  "kernelspec": {
   "display_name": "Python 3",
   "language": "python",
   "name": "python3"
  },
  "language_info": {
   "codemirror_mode": {
    "name": "ipython",
    "version": 3
   },
   "file_extension": ".py",
   "mimetype": "text/x-python",
   "name": "python",
   "nbconvert_exporter": "python",
   "pygments_lexer": "ipython3",
   "version": "3.5.2"
  }
 },
 "nbformat": 4,
 "nbformat_minor": 1
}
