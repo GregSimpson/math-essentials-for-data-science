{
 "cells": [
  {
   "cell_type": "code",
   "execution_count": 1,
   "metadata": {},
   "outputs": [
    {
     "data": {
      "text/plain": [
       "array([[3. , 3. , 3. ],\n",
       "       [3. , 2. , 2.5],\n",
       "       [4. , 3. , 3.6]])"
      ]
     },
     "execution_count": 1,
     "metadata": {},
     "output_type": "execute_result"
    }
   ],
   "source": [
    "import numpy as np\n",
    "import matplotlib.pyplot as plt\n",
    "%matplotlib inline\n",
    "step_size = .02\n",
    "prediction_history = np.array([])\n",
    "# Given houses h0, h1 and h2 (features and sales price) predict sales price of unknown house hx\n",
    "# features are Bedroms, Bathrooms, Thousands_square_feet\n",
    "\n",
    "features = ['Bedrooms', 'Bathrooms', 'Square Feet']\n",
    "house_0 = np.array([[3, 3, 3]])\n",
    "house_1 = np.array([[3, 2, 2.5]])\n",
    "house_2 = np.array([[4, 3, 3.6]])\n",
    "house_x = np.array([[4, 3, 3.1]])\n",
    "X = np.vstack([house_0,house_1,house_2])\n",
    "X"
   ]
  },
  {
   "cell_type": "code",
   "execution_count": 2,
   "metadata": {},
   "outputs": [
    {
     "data": {
      "text/plain": [
       "array([[35. ],\n",
       "       [30. ],\n",
       "       [42.5]])"
      ]
     },
     "execution_count": 2,
     "metadata": {},
     "output_type": "execute_result"
    }
   ],
   "source": [
    "#prices in thousands of dollars\n",
    "y = prices = np.array([[35.0000, 30.0000, 42.5000]]).T\n",
    "prices"
   ]
  },
  {
   "cell_type": "code",
   "execution_count": 3,
   "metadata": {},
   "outputs": [
    {
     "data": {
      "text/plain": [
       "array([[0.41870562],\n",
       "       [0.68079742],\n",
       "       [0.35329391]])"
      ]
     },
     "execution_count": 3,
     "metadata": {},
     "output_type": "execute_result"
    }
   ],
   "source": [
    "# start with a random guess at weights:\n",
    "w = np.random.random(3).reshape(3,1)\n",
    "w"
   ]
  },
  {
   "cell_type": "markdown",
   "metadata": {},
   "source": [
    "# Initial Estimate of House X"
   ]
  },
  {
   "cell_type": "code",
   "execution_count": 4,
   "metadata": {},
   "outputs": [
    {
     "name": "stdout",
     "output_type": "stream",
     "text": [
      "[[4.81242588]]\n"
     ]
    }
   ],
   "source": [
    "# initial estimate of price of house_x:\n",
    "house_x.dot(w)\n",
    "prediction_history = np.vstack([X.dot(w),house_x.dot(w)])\n",
    "print(house_x.dot(w))"
   ]
  },
  {
   "cell_type": "markdown",
   "metadata": {},
   "source": [
    "# First Set of Predictions"
   ]
  },
  {
   "cell_type": "code",
   "execution_count": 5,
   "metadata": {},
   "outputs": [
    {
     "data": {
      "text/plain": [
       "array([4.35839087])"
      ]
     },
     "execution_count": 5,
     "metadata": {},
     "output_type": "execute_result"
    }
   ],
   "source": [
    "# first estimate of prices of h0:\n",
    "prediction = X[0,:].dot(w)\n",
    "prediction"
   ]
  },
  {
   "cell_type": "code",
   "execution_count": 6,
   "metadata": {},
   "outputs": [
    {
     "data": {
      "text/plain": [
       "array([938.90821025])"
      ]
     },
     "execution_count": 6,
     "metadata": {},
     "output_type": "execute_result"
    }
   ],
   "source": [
    "# calculate error on prediction 0\n",
    "Error = (prediction-y[0])**2\n",
    "Error"
   ]
  },
  {
   "cell_type": "code",
   "execution_count": 7,
   "metadata": {},
   "outputs": [
    {
     "data": {
      "text/plain": [
       "array([-183.8496548])"
      ]
     },
     "execution_count": 7,
     "metadata": {},
     "output_type": "execute_result"
    }
   ],
   "source": [
    "# calculate partial derivative of Error of prediction zero, with respect to w0\n",
    "partial_E_w0 = -2*X[0,0]*(y[0]-(X[0,:].dot(w)))\n",
    "partial_E_w0"
   ]
  },
  {
   "cell_type": "code",
   "execution_count": 8,
   "metadata": {},
   "outputs": [
    {
     "data": {
      "text/plain": [
       "array([-183.8496548])"
      ]
     },
     "execution_count": 8,
     "metadata": {},
     "output_type": "execute_result"
    }
   ],
   "source": [
    "# calculate partial derivative of Error of prediction zero, with respect to w1\n",
    "partial_E_w1 = -2*X[0,1]*(y[0]-(X[0,:].dot(w)))\n",
    "partial_E_w1"
   ]
  },
  {
   "cell_type": "code",
   "execution_count": 9,
   "metadata": {},
   "outputs": [
    {
     "data": {
      "text/plain": [
       "array([-183.8496548])"
      ]
     },
     "execution_count": 9,
     "metadata": {},
     "output_type": "execute_result"
    }
   ],
   "source": [
    "# calculate partial derivative of Error of prediction zero, with respect to w2\n",
    "partial_E_w2 = -2*X[0,2]*(y[0]-(X[0,:].dot(w)))\n",
    "partial_E_w2"
   ]
  },
  {
   "cell_type": "code",
   "execution_count": 10,
   "metadata": {},
   "outputs": [
    {
     "data": {
      "text/plain": [
       "array([[3.6769931],\n",
       "       [3.6769931],\n",
       "       [3.6769931]])"
      ]
     },
     "execution_count": 10,
     "metadata": {},
     "output_type": "execute_result"
    }
   ],
   "source": [
    "# calculate adjustment: very small step in negative direction of partial derivative vector\n",
    "adjustment = np.array([partial_E_w0,partial_E_w1,partial_E_w2])*(-step_size)\n",
    "adjustment"
   ]
  },
  {
   "cell_type": "code",
   "execution_count": 11,
   "metadata": {},
   "outputs": [
    {
     "data": {
      "text/plain": [
       "array([[4.09569871],\n",
       "       [4.35779052],\n",
       "       [4.03028701]])"
      ]
     },
     "execution_count": 11,
     "metadata": {},
     "output_type": "execute_result"
    }
   ],
   "source": [
    "# Add adjustment to existing weight values\n",
    "w += adjustment\n",
    "w"
   ]
  },
  {
   "cell_type": "code",
   "execution_count": 12,
   "metadata": {},
   "outputs": [
    {
     "data": {
      "text/plain": [
       "array([37.45132873])"
      ]
     },
     "execution_count": 12,
     "metadata": {},
     "output_type": "execute_result"
    }
   ],
   "source": [
    "# new estimate of price of house_0:\n",
    "X[0,:].dot(w)"
   ]
  },
  {
   "cell_type": "code",
   "execution_count": 13,
   "metadata": {},
   "outputs": [],
   "source": [
    "# new estimate of price of house_x:\n",
    "house_x.dot(w)\n",
    "prediction_history = np.hstack([prediction_history,np.vstack([X.dot(w),house_x.dot(w)])])"
   ]
  },
  {
   "cell_type": "code",
   "execution_count": 14,
   "metadata": {},
   "outputs": [
    {
     "data": {
      "text/plain": [
       "array([31.07839471])"
      ]
     },
     "execution_count": 14,
     "metadata": {},
     "output_type": "execute_result"
    }
   ],
   "source": [
    "# predict price of house 1:\n",
    "prediction_1 = X[1,:].dot(w)\n",
    "prediction_1"
   ]
  },
  {
   "cell_type": "code",
   "execution_count": 15,
   "metadata": {},
   "outputs": [
    {
     "data": {
      "text/plain": [
       "array([657.49211892])"
      ]
     },
     "execution_count": 15,
     "metadata": {},
     "output_type": "execute_result"
    }
   ],
   "source": [
    "# Find the error on house 1\n",
    "Error = (prediction-y[1])**2\n",
    "Error"
   ]
  },
  {
   "cell_type": "code",
   "execution_count": 16,
   "metadata": {},
   "outputs": [
    {
     "data": {
      "text/plain": [
       "array([6.47036823])"
      ]
     },
     "execution_count": 16,
     "metadata": {},
     "output_type": "execute_result"
    }
   ],
   "source": [
    "# calculate partial derivative of Error of prediction one, with respect to w0\n",
    "partial_E_w0 = -2*X[1,0]*(y[1]-(X[1,:].dot(w)))\n",
    "partial_E_w0"
   ]
  },
  {
   "cell_type": "code",
   "execution_count": 17,
   "metadata": {},
   "outputs": [
    {
     "data": {
      "text/plain": [
       "array([4.31357882])"
      ]
     },
     "execution_count": 17,
     "metadata": {},
     "output_type": "execute_result"
    }
   ],
   "source": [
    "# calculate partial derivative of Error of prediction one, with respect to w1\n",
    "partial_E_w1 = -2*X[1,1]*(y[1]-(X[1,:].dot(w)))\n",
    "partial_E_w1"
   ]
  },
  {
   "cell_type": "code",
   "execution_count": 18,
   "metadata": {},
   "outputs": [
    {
     "data": {
      "text/plain": [
       "array([5.39197353])"
      ]
     },
     "execution_count": 18,
     "metadata": {},
     "output_type": "execute_result"
    }
   ],
   "source": [
    "# calculate partial derivative of Error of prediction one, with respect to w2\n",
    "partial_E_w2 = -2*X[1,2]*(y[1]-(X[1,:].dot(w)))\n",
    "partial_E_w2"
   ]
  },
  {
   "cell_type": "code",
   "execution_count": 19,
   "metadata": {},
   "outputs": [
    {
     "data": {
      "text/plain": [
       "array([[-0.12940736],\n",
       "       [-0.08627158],\n",
       "       [-0.10783947]])"
      ]
     },
     "execution_count": 19,
     "metadata": {},
     "output_type": "execute_result"
    }
   ],
   "source": [
    "adjustment = np.array([partial_E_w0,partial_E_w1,partial_E_w2])*(-step_size)\n",
    "adjustment"
   ]
  },
  {
   "cell_type": "code",
   "execution_count": 20,
   "metadata": {},
   "outputs": [
    {
     "data": {
      "text/plain": [
       "array([[3.96629135],\n",
       "       [4.27151894],\n",
       "       [3.92244754]])"
      ]
     },
     "execution_count": 20,
     "metadata": {},
     "output_type": "execute_result"
    }
   ],
   "source": [
    "w += adjustment\n",
    "w"
   ]
  },
  {
   "cell_type": "code",
   "execution_count": 21,
   "metadata": {},
   "outputs": [],
   "source": [
    "# new estimate of hx:\n",
    "house_x.dot(w)\n",
    "prediction_history = np.hstack([prediction_history,np.vstack([X.dot(w),house_x.dot(w)])])"
   ]
  },
  {
   "cell_type": "code",
   "execution_count": 22,
   "metadata": {},
   "outputs": [
    {
     "data": {
      "text/plain": [
       "array([42.80053337])"
      ]
     },
     "execution_count": 22,
     "metadata": {},
     "output_type": "execute_result"
    }
   ],
   "source": [
    "# first estimate of price of h2:\n",
    "X[2,:].dot(w)"
   ]
  },
  {
   "cell_type": "code",
   "execution_count": 23,
   "metadata": {},
   "outputs": [
    {
     "data": {
      "text/plain": [
       "array([938.90821025])"
      ]
     },
     "execution_count": 23,
     "metadata": {},
     "output_type": "execute_result"
    }
   ],
   "source": [
    "# fnd the error on house 2\n",
    "Error = (prediction-y[0])**2\n",
    "Error"
   ]
  },
  {
   "cell_type": "code",
   "execution_count": 24,
   "metadata": {},
   "outputs": [
    {
     "data": {
      "text/plain": [
       "array([2.40426694])"
      ]
     },
     "execution_count": 24,
     "metadata": {},
     "output_type": "execute_result"
    }
   ],
   "source": [
    "# calculate partial derivative of Error of prediction two, with respect to w0\n",
    "partial_E_w0 = -2*X[2,0]*(y[2]-(X[2,:].dot(w)))\n",
    "partial_E_w0"
   ]
  },
  {
   "cell_type": "code",
   "execution_count": 25,
   "metadata": {},
   "outputs": [
    {
     "data": {
      "text/plain": [
       "array([1.80320021])"
      ]
     },
     "execution_count": 25,
     "metadata": {},
     "output_type": "execute_result"
    }
   ],
   "source": [
    "# calculate partial derivative of Error of prediction two, with respect to w1\n",
    "partial_E_w1 = -2*X[2,1]*(y[2]-(X[2,:].dot(w)))\n",
    "partial_E_w1"
   ]
  },
  {
   "cell_type": "code",
   "execution_count": 26,
   "metadata": {},
   "outputs": [
    {
     "data": {
      "text/plain": [
       "array([2.40426694])"
      ]
     },
     "execution_count": 26,
     "metadata": {},
     "output_type": "execute_result"
    }
   ],
   "source": [
    "# calculate partial derivative of Error of prediction two, with respect to w2\n",
    "partial_E_w2 = -2*X[2,2]*(y[2]-(X[2,:].dot(w)))\n",
    "partial_E_w0"
   ]
  },
  {
   "cell_type": "code",
   "execution_count": 27,
   "metadata": {},
   "outputs": [
    {
     "data": {
      "text/plain": [
       "array([[-0.04808534],\n",
       "       [-0.036064  ],\n",
       "       [-0.04327681]])"
      ]
     },
     "execution_count": 27,
     "metadata": {},
     "output_type": "execute_result"
    }
   ],
   "source": [
    "adjustment = np.array([partial_E_w0,partial_E_w1,partial_E_w2])*(-step_size)\n",
    "adjustment"
   ]
  },
  {
   "cell_type": "code",
   "execution_count": 28,
   "metadata": {},
   "outputs": [
    {
     "data": {
      "text/plain": [
       "array([[3.91820601],\n",
       "       [4.23545494],\n",
       "       [3.87917073]])"
      ]
     },
     "execution_count": 28,
     "metadata": {},
     "output_type": "execute_result"
    }
   ],
   "source": [
    "w += adjustment\n",
    "w"
   ]
  },
  {
   "cell_type": "code",
   "execution_count": 29,
   "metadata": {},
   "outputs": [
    {
     "data": {
      "text/plain": [
       "array([[40.40461813]])"
      ]
     },
     "execution_count": 29,
     "metadata": {},
     "output_type": "execute_result"
    }
   ],
   "source": [
    "# new estimage of house X\n",
    "house_x.dot(w)"
   ]
  },
  {
   "cell_type": "code",
   "execution_count": 30,
   "metadata": {},
   "outputs": [],
   "source": [
    "prediction_history = np.hstack([prediction_history,np.vstack([X.dot(w),house_x.dot(w)])])"
   ]
  },
  {
   "cell_type": "markdown",
   "metadata": {},
   "source": [
    "# Start of New Epoch"
   ]
  },
  {
   "cell_type": "code",
   "execution_count": 31,
   "metadata": {},
   "outputs": [
    {
     "data": {
      "text/plain": [
       "array([6.59097031, 6.59097031, 6.59097031])"
      ]
     },
     "execution_count": 31,
     "metadata": {},
     "output_type": "execute_result"
    }
   ],
   "source": [
    "partial_E_w = -2*X[0,:]*(y[0]-(X[0,:].dot(w)))\n",
    "partial_E_w"
   ]
  },
  {
   "cell_type": "code",
   "execution_count": 32,
   "metadata": {},
   "outputs": [
    {
     "data": {
      "text/plain": [
       "array([-0.13181941, -0.13181941, -0.13181941])"
      ]
     },
     "execution_count": 32,
     "metadata": {},
     "output_type": "execute_result"
    }
   ],
   "source": [
    "adjustment = partial_E_w*(-step_size)\n",
    "adjustment"
   ]
  },
  {
   "cell_type": "code",
   "execution_count": 33,
   "metadata": {},
   "outputs": [
    {
     "data": {
      "text/plain": [
       "array([[3.7863866 ],\n",
       "       [4.10363553],\n",
       "       [3.74735133]])"
      ]
     },
     "execution_count": 33,
     "metadata": {},
     "output_type": "execute_result"
    }
   ],
   "source": [
    "w += adjustment.reshape(3,1)\n",
    "w"
   ]
  },
  {
   "cell_type": "code",
   "execution_count": 34,
   "metadata": {},
   "outputs": [],
   "source": [
    "prediction_history = np.hstack([prediction_history,np.vstack([X.dot(w),house_x.dot(w)])])"
   ]
  },
  {
   "cell_type": "code",
   "execution_count": 35,
   "metadata": {},
   "outputs": [
    {
     "data": {
      "text/plain": [
       "array([[34.9121204],\n",
       "       [28.9348092],\n",
       "       [40.9469178]])"
      ]
     },
     "execution_count": 35,
     "metadata": {},
     "output_type": "execute_result"
    }
   ],
   "source": [
    "# New estimates of prices:\n",
    "X.dot(w)"
   ]
  },
  {
   "cell_type": "code",
   "execution_count": 36,
   "metadata": {},
   "outputs": [
    {
     "data": {
      "text/plain": [
       "array([[3.9142095 ],\n",
       "       [4.1888508 ],\n",
       "       [3.85387041]])"
      ]
     },
     "execution_count": 36,
     "metadata": {},
     "output_type": "execute_result"
    }
   ],
   "source": [
    "w += (-2*X[1,:]*(y[1]-(X[1,:].dot(w)))*(-step_size)).reshape(3,1)\n",
    "w"
   ]
  },
  {
   "cell_type": "code",
   "execution_count": 37,
   "metadata": {},
   "outputs": [
    {
     "data": {
      "text/plain": [
       "array([[35.87079212],\n",
       "       [29.75500612],\n",
       "       [42.09732386]])"
      ]
     },
     "execution_count": 37,
     "metadata": {},
     "output_type": "execute_result"
    }
   ],
   "source": [
    "X.dot(w)"
   ]
  },
  {
   "cell_type": "code",
   "execution_count": 38,
   "metadata": {},
   "outputs": [],
   "source": [
    "prediction_history = np.hstack([prediction_history,np.vstack([X.dot(w),house_x.dot(w)])])"
   ]
  },
  {
   "cell_type": "code",
   "execution_count": 39,
   "metadata": {},
   "outputs": [
    {
     "data": {
      "text/plain": [
       "array([[36.38299616],\n",
       "       [30.18989634],\n",
       "       [42.70874731]])"
      ]
     },
     "execution_count": 39,
     "metadata": {},
     "output_type": "execute_result"
    }
   ],
   "source": [
    "w += (-2*X[2,:]*(y[2]-(X[2,:].dot(w)))*(-step_size)).reshape(3,1)\n",
    "X.dot(w)"
   ]
  },
  {
   "cell_type": "code",
   "execution_count": 40,
   "metadata": {},
   "outputs": [],
   "source": [
    "prediction_history = np.hstack([prediction_history,np.vstack([X.dot(w),house_x.dot(w)])])"
   ]
  },
  {
   "cell_type": "code",
   "execution_count": 41,
   "metadata": {},
   "outputs": [
    {
     "data": {
      "text/plain": [
       "array([[35.00891931],\n",
       "       [30.03531244],\n",
       "       [42.51393682]])"
      ]
     },
     "execution_count": 41,
     "metadata": {},
     "output_type": "execute_result"
    }
   ],
   "source": [
    "for _ in range(10000):\n",
    "    for i in range(3):\n",
    "        w += (-2*X[i,:]*(y[i]-(X[i,:].dot(w)))*(-step_size)).reshape(3,1)\n",
    "        prediction_history = np.hstack([prediction_history,np.vstack([X.dot(w),house_x.dot(w)])])\n",
    "X.dot(w)"
   ]
  },
  {
   "cell_type": "code",
   "execution_count": 42,
   "metadata": {},
   "outputs": [
    {
     "data": {
      "text/plain": [
       "array([[38.46901379]])"
      ]
     },
     "execution_count": 42,
     "metadata": {},
     "output_type": "execute_result"
    }
   ],
   "source": [
    "# final estimate of house X price\n",
    "house_x.dot(w)"
   ]
  },
  {
   "cell_type": "code",
   "execution_count": 43,
   "metadata": {},
   "outputs": [
    {
     "data": {
      "text/plain": [
       "array([[2.65110988],\n",
       "       [0.92868384],\n",
       "       [8.08984605]])"
      ]
     },
     "execution_count": 43,
     "metadata": {},
     "output_type": "execute_result"
    }
   ],
   "source": [
    "w"
   ]
  },
  {
   "cell_type": "code",
   "execution_count": 44,
   "metadata": {},
   "outputs": [
    {
     "data": {
      "text/plain": [
       "[<matplotlib.lines.Line2D at 0x7f78bb7bc048>,\n",
       " <matplotlib.lines.Line2D at 0x7f78b97294e0>,\n",
       " <matplotlib.lines.Line2D at 0x7f78b9729780>,\n",
       " <matplotlib.lines.Line2D at 0x7f78b9729978>]"
      ]
     },
     "execution_count": 44,
     "metadata": {},
     "output_type": "execute_result"
    },
    {
     "data": {
      "image/png": "[encoded data removed]",
      "text/plain": [
       "<matplotlib.figure.Figure at 0x7f78cdf45898>"
      ]
     },
     "metadata": {},
     "output_type": "display_data"
    }
   ],
   "source": [
    "# plt.ylim([-0,5])\n",
    "plt.xscale('log')\n",
    "plt.plot(prediction_history.T)\n"
   ]
  },
  {
   "cell_type": "code",
   "execution_count": null,
   "metadata": {},
   "outputs": [],
   "source": []
  },
  {
   "cell_type": "code",
   "execution_count": null,
   "metadata": {},
   "outputs": [],
   "source": []
  },
  {
   "cell_type": "code",
   "execution_count": null,
   "metadata": {},
   "outputs": [],
   "source": []
  },
  {
   "cell_type": "code",
   "execution_count": null,
   "metadata": {},
   "outputs": [],
   "source": []
  }
 ],
 "metadata": {
  "kernelspec": {
   "display_name": "Python 3",
   "language": "python",
   "name": "python3"
  },
  "language_info": {
   "codemirror_mode": {
    "name": "ipython",
    "version": 3
   },
   "file_extension": ".py",
   "mimetype": "text/x-python",
   "name": "python",
   "nbconvert_exporter": "python",
   "pygments_lexer": "ipython3",
   "version": "3.5.2"
  }
 },
 "nbformat": 4,
 "nbformat_minor": 2
}
